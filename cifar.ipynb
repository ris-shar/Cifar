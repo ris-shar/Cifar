{
  "cells": [
    {
      "cell_type": "markdown",
      "metadata": {
        "id": "view-in-github",
        "colab_type": "text"
      },
      "source": [
        "<a href=\"https://colab.research.google.com/github/ris-shar/Cifar/blob/main/cifar.ipynb\" target=\"_parent\"><img src=\"https://colab.research.google.com/assets/colab-badge.svg\" alt=\"Open In Colab\"/></a>"
      ]
    },
    {
      "cell_type": "code",
      "execution_count": null,
      "metadata": {
        "id": "eWRQwzYRsIFC"
      },
      "outputs": [],
      "source": [
        "import tensorflow as tf\n",
        "from tensorflow.keras import datasets, layers, models\n",
        "import matplotlib.pyplot as plt\n",
        "import numpy as np"
      ]
    },
    {
      "cell_type": "code",
      "execution_count": null,
      "metadata": {
        "colab": {
          "base_uri": "https://localhost:8080/"
        },
        "id": "mA11kt5ksYb9",
        "outputId": "d1d26a65-cfd7-46b2-c8ab-84f64985bf23"
      },
      "outputs": [
        {
          "name": "stdout",
          "output_type": "stream",
          "text": [
            "Downloading data from https://www.cs.toronto.edu/~kriz/cifar-10-python.tar.gz\n",
            "170500096/170498071 [==============================] - 13s 0us/step\n",
            "170508288/170498071 [==============================] - 13s 0us/step\n"
          ]
        }
      ],
      "source": [
        "(x_train, y_train), (x_test,y_test) = datasets.cifar10.load_data()\n",
        "au = x_train"
      ]
    },
    {
      "cell_type": "code",
      "execution_count": null,
      "metadata": {
        "colab": {
          "base_uri": "https://localhost:8080/"
        },
        "id": "MDD_cauWxxAl",
        "outputId": "2e327f9b-cfb1-42a9-eb1b-b2db888ae29c"
      },
      "outputs": [
        {
          "data": {
            "text/plain": [
              "(50000, 32, 32, 3)"
            ]
          },
          "execution_count": 4,
          "metadata": {},
          "output_type": "execute_result"
        }
      ],
      "source": [
        "au.shape"
      ]
    },
    {
      "cell_type": "code",
      "execution_count": null,
      "metadata": {
        "colab": {
          "base_uri": "https://localhost:8080/"
        },
        "id": "mQg3PIAJslXZ",
        "outputId": "28da3dc1-21c3-4927-ca28-dd7d9b56ffdb"
      },
      "outputs": [
        {
          "data": {
            "text/plain": [
              "(10000, 32, 32, 3)"
            ]
          },
          "execution_count": 5,
          "metadata": {},
          "output_type": "execute_result"
        }
      ],
      "source": [
        "x_test.shape"
      ]
    },
    {
      "cell_type": "code",
      "execution_count": null,
      "metadata": {
        "id": "EMJqhaOQvkvK"
      },
      "outputs": [],
      "source": [
        "y_train = y_train.reshape(-1,)"
      ]
    },
    {
      "cell_type": "code",
      "execution_count": null,
      "metadata": {
        "id": "XZZ9vja7tQN5"
      },
      "outputs": [],
      "source": [
        "classes = ['airplane', 'automobile', 'bird', 'cat', 'deer', 'dog','frog', 'horse', 'ship', 'truck']"
      ]
    },
    {
      "cell_type": "code",
      "execution_count": null,
      "metadata": {
        "id": "B5xHr1lGspjX"
      },
      "outputs": [],
      "source": [
        "def plot_sample(x, y, index):\n",
        "  plt.figure(figsize = (15,2))\n",
        "  plt.imshow(x[index])\n",
        "  plt.xlabel(classes[y[index]])"
      ]
    },
    {
      "cell_type": "code",
      "execution_count": null,
      "metadata": {
        "colab": {
          "base_uri": "https://localhost:8080/",
          "height": 173
        },
        "id": "VUUL1tNdsvV8",
        "outputId": "1deb72a4-cb35-4d0f-eba3-aa95e07a5a60"
      },
      "outputs": [
        {
          "data": {
            "image/png": "[encoded data removed]",
            "text/plain": [
              "<Figure size 1080x144 with 1 Axes>"
            ]
          },
          "metadata": {},
          "output_type": "display_data"
        }
      ],
      "source": [
        "plot_sample(x_train, y_train, 0)"
      ]
    },
    {
      "cell_type": "code",
      "execution_count": null,
      "metadata": {
        "colab": {
          "base_uri": "https://localhost:8080/"
        },
        "id": "OFvmgJUWva_D",
        "outputId": "99651aa0-c02a-4690-e800-ed5228ee3067"
      },
      "outputs": [
        {
          "data": {
            "text/plain": [
              "(50000, 32, 32, 3)"
            ]
          },
          "execution_count": 10,
          "metadata": {},
          "output_type": "execute_result"
        }
      ],
      "source": [
        "x_train = x_train/255\n",
        "x_test = x_test/255\n",
        "x_train.shape"
      ]
    },
    {
      "cell_type": "code",
      "execution_count": null,
      "metadata": {
        "id": "BFwL53aqwGm8"
      },
      "outputs": [],
      "source": [
        "model = tf.keras.Sequential([tf.keras.layers.Flatten(input_shape=(32,32,3)),\n",
        "                          tf.keras.layers.Dense(3000, activation='relu'),\n",
        "                          tf.keras.layers.Dense(1000, activation='relu'),\n",
        "                          tf.keras.layers.Dense(10, activation='sigmoid')])"
      ]
    },
    {
      "cell_type": "code",
      "execution_count": null,
      "metadata": {
        "colab": {
          "background_save": true,
          "base_uri": "https://localhost:8080/"
        },
        "id": "GzNXbd7bww-8",
        "outputId": "04a5d3ac-48eb-4fe8-d7e4-20edb09ec713"
      },
      "outputs": [
        {
          "name": "stdout",
          "output_type": "stream",
          "text": [
            "Epoch 1/5\n",
            "1563/1563 [==============================] - 95s 60ms/step - loss: nan - accuracy: 0.0999\n",
            "Epoch 2/5\n",
            "1563/1563 [==============================] - 94s 60ms/step - loss: nan - accuracy: 0.1000\n",
            "Epoch 3/5\n",
            "1563/1563 [==============================] - 93s 59ms/step - loss: nan - accuracy: 0.1000\n",
            "Epoch 4/5\n",
            "1563/1563 [==============================] - 91s 58ms/step - loss: nan - accuracy: 0.1000\n",
            "Epoch 5/5\n",
            "1563/1563 [==============================] - 90s 58ms/step - loss: nan - accuracy: 0.1000\n"
          ]
        },
        {
          "data": {
            "text/plain": [
              "<keras.callbacks.History at 0x7f7847b40450>"
            ]
          },
          "execution_count": null,
          "metadata": {},
          "output_type": "execute_result"
        }
      ],
      "source": [
        "model.compile(optimizer='SGD',\n",
        "              loss = 'sparse_categorical_crossentropy',\n",
        "              metrics=['accuracy'])\n",
        "model.fit(au, y_train, epochs=5)"
      ]
    },
    {
      "cell_type": "code",
      "execution_count": null,
      "metadata": {
        "id": "JXMrbQqkxL0b"
      },
      "outputs": [],
      "source": [
        "cnn = models.Sequential([\n",
        "                         \n",
        "                         layers.Flatten(),\n",
        "                         layers.Dense(64, activation='relu'),\n",
        "                         layers.Dense(10, activation='softmax')\n",
        "                         \n",
        "])"
      ]
    },
    {
      "cell_type": "code",
      "source": [],
      "metadata": {
        "id": "OOxDktLD0LxE"
      },
      "execution_count": null,
      "outputs": []
    }
  ],
  "metadata": {
    "accelerator": "GPU",
    "colab": {
      "provenance": [],
      "authorship_tag": "ABX9TyPcrWxZLurWLJJmAsBf4Ndo",
      "include_colab_link": true
    },
    "kernelspec": {
      "display_name": "Python 3",
      "name": "python3"
    },
    "language_info": {
      "name": "python"
    }
  },
  "nbformat": 4,
  "nbformat_minor": 0
}